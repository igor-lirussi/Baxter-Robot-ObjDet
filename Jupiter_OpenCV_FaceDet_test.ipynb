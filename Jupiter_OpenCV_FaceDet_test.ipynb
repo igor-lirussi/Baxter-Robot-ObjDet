{
 "cells": [
  {
   "cell_type": "markdown",
   "metadata": {},
   "source": [
    "# Tests for Face detection with OpenCV\n",
    "the following notebook contains some test with different model/images for face detection. "
   ]
  },
  {
   "cell_type": "code",
   "execution_count": 26,
   "metadata": {},
   "outputs": [
    {
     "name": "stdout",
     "output_type": "stream",
     "text": [
      "OpenCV: 3.4.5\n",
      "IMPORTS OK\n"
     ]
    }
   ],
   "source": [
    "import time\n",
    "import cv2\n",
    "import numpy as np\n",
    "from matplotlib import pyplot as plt\n",
    "print(\"OpenCV: \"+ str(cv2.__version__))\n",
    "print(\"IMPORTS OK\")"
   ]
  },
  {
   "cell_type": "code",
   "execution_count": 27,
   "metadata": {},
   "outputs": [],
   "source": [
    "image_path = \"./img/faces.png\"\n",
    "#show preview image in notebook\n",
    "show_image =False\n",
    "WIDTH_ROBOT = 960\n",
    "HEIGHT_ROBOT = 600"
   ]
  },
  {
   "cell_type": "code",
   "execution_count": 28,
   "metadata": {},
   "outputs": [
    {
     "name": "stdout",
     "output_type": "stream",
     "text": [
      "dimensions image upload: (600, 960)\n",
      "dimensions robot camera: (600, 960)\n",
      "Same dimensions: True\n"
     ]
    }
   ],
   "source": [
    "#Read image\n",
    "img = cv2.imread(image_path,cv2.IMREAD_COLOR )\n",
    "#calculate h and w\n",
    "(h, w) = img.shape[:2]\n",
    "WIDTH = w\n",
    "HEIGHT = h\n",
    "print(\"dimensions image upload: \"+ str((h,w)) )\n",
    "print(\"dimensions robot camera: \"+ str((HEIGHT_ROBOT, WIDTH_ROBOT)) )\n",
    "print(\"Same dimensions: \"+str((h,w)==(HEIGHT, WIDTH)))\n",
    "\n",
    "if show_image:\n",
    "    #cv2.imshow(\"image\",img) #not working in Jupiter notebook\n",
    "    plt.imshow(cv2.cvtColor(img, cv2.COLOR_BGR2RGB))\n",
    "    plt.show()"
   ]
  },
  {
   "cell_type": "markdown",
   "metadata": {},
   "source": [
    "## HAAR CLASSIFIER FACE DETECTION"
   ]
  },
  {
   "cell_type": "code",
   "execution_count": 29,
   "metadata": {},
   "outputs": [
    {
     "name": "stdout",
     "output_type": "stream",
     "text": [
      "Classifier Loaded\n"
     ]
    }
   ],
   "source": [
    "#Load Classifier\n",
    "CASC_PATH = \"./models/haarcascade_frontalface_default.xml\"\n",
    "face_cascade = cv2.CascadeClassifier(CASC_PATH)\n",
    "print(\"Classifier Loaded\")"
   ]
  },
  {
   "cell_type": "code",
   "execution_count": 30,
   "metadata": {
    "scrolled": true
   },
   "outputs": [
    {
     "name": "stdout",
     "output_type": "stream",
     "text": [
      "Detected: 15\n"
     ]
    },
    {
     "data": {
      "text/plain": [
       "True"
      ]
     },
     "execution_count": 30,
     "metadata": {},
     "output_type": "execute_result"
    }
   ],
   "source": [
    "img_haar = img.copy() #copy img\n",
    "\n",
    "if show_image:\n",
    "    print(\"BEFORE:\")\n",
    "    plt.imshow(img_haar)\n",
    "    plt.show()\n",
    "\n",
    "#FORWARD\n",
    "faces = face_cascade.detectMultiScale(img_haar, scaleFactor=1.1, minNeighbors=5, minSize=(30, 30))\n",
    "#print(\"faces detected: \",faces.shape[0])\n",
    "print(\"Detected: \"+str(len(faces)))\n",
    "\n",
    "#draw bounding boxes\n",
    "for face in faces:\n",
    "    x, y, w, h = face\n",
    "    cv2.rectangle(img_haar, (x, y), (x+w, y+h), (0, 255, 0), 2)\n",
    "\n",
    "if show_image:    \n",
    "    print(\"RESULT:\")\n",
    "    plt.imshow(img_haar)\n",
    "    plt.show()\n",
    "\n",
    "#SAVE\n",
    "cv2.imwrite(\"./img/save.png\",img_haar)"
   ]
  },
  {
   "cell_type": "markdown",
   "metadata": {},
   "source": [
    "## DLIB"
   ]
  },
  {
   "cell_type": "code",
   "execution_count": 31,
   "metadata": {},
   "outputs": [
    {
     "name": "stdout",
     "output_type": "stream",
     "text": [
      "Detected: 18\n"
     ]
    },
    {
     "data": {
      "text/plain": [
       "True"
      ]
     },
     "execution_count": 31,
     "metadata": {},
     "output_type": "execute_result"
    }
   ],
   "source": [
    "import cv2\n",
    "import dlib  #requires pip install dlib\n",
    "detector = dlib.get_frontal_face_detector()\n",
    "\n",
    "img_dlib = img.copy() #copy img\n",
    "\n",
    "if show_image:\n",
    "    print(\"BEFORE:\")\n",
    "    plt.imshow(img_dlib)\n",
    "    plt.show()\n",
    "\n",
    "#FORWARD\n",
    "gray = cv2.cvtColor(img_dlib, cv2.COLOR_BGR2GRAY)\n",
    "faces = detector(gray, 1) # result\n",
    "print(\"Detected: \"+str(len(faces)))\n",
    "\n",
    "#to draw faces on image\n",
    "for result in faces:\n",
    "    x1 = result.left()\n",
    "    y1 = result.top()\n",
    "    x2 = result.right()\n",
    "    y2 = result.bottom()\n",
    "    cv2.rectangle(img_dlib, (x1, y1), (x2, y2), (0,255 , 0), 2)\n",
    "    \n",
    "if show_image:    \n",
    "    print(\"RESULT:\")\n",
    "    plt.imshow(img_dlib)\n",
    "    plt.show()\n",
    "    \n",
    "#SAVE\n",
    "cv2.imwrite(\"./img/save.png\",img_dlib)"
   ]
  },
  {
   "cell_type": "markdown",
   "metadata": {},
   "source": [
    "## DNN FACE DETECTION"
   ]
  },
  {
   "cell_type": "code",
   "execution_count": 32,
   "metadata": {},
   "outputs": [
    {
     "name": "stdout",
     "output_type": "stream",
     "text": [
      "Net Loaded\n"
     ]
    }
   ],
   "source": [
    "#Load net\n",
    "PROTO = \"./models/res10_deploy.prototxt\"\n",
    "MODEL = \"./models/res10_300x300_ssd_iter_140000_fp16.caffemodel\"\n",
    "net = cv2.dnn.readNetFromCaffe(PROTO, MODEL)\n",
    "print(\"Net Loaded\")"
   ]
  },
  {
   "cell_type": "code",
   "execution_count": 33,
   "metadata": {},
   "outputs": [
    {
     "name": "stdout",
     "output_type": "stream",
     "text": [
      "Detected: 189\n",
      "Detected: 14 (after threshold)\n"
     ]
    },
    {
     "data": {
      "text/plain": [
       "True"
      ]
     },
     "execution_count": 33,
     "metadata": {},
     "output_type": "execute_result"
    }
   ],
   "source": [
    "img_dnn = img.copy() #copy img\n",
    "\n",
    "if show_image:\n",
    "    print(\"BEFORE:\")\n",
    "    plt.imshow(img_dnn)\n",
    "    plt.show()\n",
    "\n",
    "#FORWARD image\n",
    "#blob = cv2.dnn.blobFromImage(cv2.resize(img_dnn, (300, 300)), 1.0, (300, 300), (104.0, 117.0, 123.0))\n",
    "blob = cv2.dnn.blobFromImage(img_dnn, 1.0, (300, 300), [104, 117, 123], False, False)\n",
    "net.setInput(blob)\n",
    "detections = net.forward()\n",
    "print(\"Detected: \" + str(detections.shape[2]))\n",
    "detected_after_threshold=0\n",
    "\n",
    "#draw bounding box\n",
    "conf_threshold=0.15\n",
    "bboxes = []\n",
    "for i in range(detections.shape[2]):\n",
    "    confidence = detections[0, 0, i, 2]\n",
    "    if confidence > conf_threshold:\n",
    "        detected_after_threshold+=1\n",
    "        x1 = int(detections[0, 0, i, 3] * WIDTH)\n",
    "        y1 = int(detections[0, 0, i, 4] * HEIGHT)\n",
    "        x2 = int(detections[0, 0, i, 5] * WIDTH)\n",
    "        y2 = int(detections[0, 0, i, 6] * HEIGHT)\n",
    "        cv2.rectangle(img_dnn, (x1, y1), (x2, y2), (0, 255, 0), 2)\n",
    "print(\"Detected: \" + str(detected_after_threshold) + \" (after threshold)\")\n",
    "\n",
    "if show_image:\n",
    "    print(\"RESULT:\")       \n",
    "    plt.imshow(img_dnn)\n",
    "    plt.show()\n",
    "\n",
    "#SAVE\n",
    "cv2.imwrite(\"./img/save.png\",img_dnn)"
   ]
  },
  {
   "cell_type": "markdown",
   "metadata": {},
   "source": [
    "## OpenCV FaceDetector"
   ]
  },
  {
   "cell_type": "code",
   "execution_count": 34,
   "metadata": {},
   "outputs": [
    {
     "name": "stdout",
     "output_type": "stream",
     "text": [
      "Net Loaded\n"
     ]
    }
   ],
   "source": [
    "#Load net\n",
    "CONFIG = \"./models/opencv_face_detector.pbtxt\"\n",
    "MODEL = \"./models/opencv_face_detector_uint8.pb\"\n",
    "net = cv2.dnn.readNetFromTensorflow(MODEL, CONFIG)\n",
    "print(\"Net Loaded\")"
   ]
  },
  {
   "cell_type": "code",
   "execution_count": 35,
   "metadata": {},
   "outputs": [
    {
     "name": "stdout",
     "output_type": "stream",
     "text": [
      "Detected: 200\n",
      "Detected: 1 (after threshold)\n"
     ]
    },
    {
     "data": {
      "text/plain": [
       "True"
      ]
     },
     "execution_count": 35,
     "metadata": {},
     "output_type": "execute_result"
    }
   ],
   "source": [
    "img_cvdet = img.copy() #copy img\n",
    "\n",
    "if show_image:\n",
    "    print(\"BEFORE:\")\n",
    "    plt.imshow(img_cvdet)\n",
    "    plt.show()\n",
    "\n",
    "#FORWARD image\n",
    "blob = cv2.dnn.blobFromImage(img_cvdet, 1.0, (300, 300), [104, 117, 123], True, False)\n",
    "net.setInput(blob)\n",
    "detections = net.forward()\n",
    "print(\"Detected: \" + str(detections.shape[2]))\n",
    "detected_after_threshold=0\n",
    "\n",
    "#draw bounding box\n",
    "conf_threshold=0.15\n",
    "bboxes = []\n",
    "for i in range(detections.shape[2]):\n",
    "    confidence = detections[0, 0, i, 2]\n",
    "    if confidence > conf_threshold:\n",
    "        detected_after_threshold+=1\n",
    "        x1 = int(detections[0, 0, i, 3] * WIDTH)\n",
    "        y1 = int(detections[0, 0, i, 4] * HEIGHT)\n",
    "        x2 = int(detections[0, 0, i, 5] * WIDTH)\n",
    "        y2 = int(detections[0, 0, i, 6] * HEIGHT)\n",
    "        bboxes.append([x1, y1, x2, y2])\n",
    "        cv2.rectangle(img_cvdet, (x1, y1), (x2, y2), (0, 255, 0), 2)\n",
    "print(\"Detected: \" + str(detected_after_threshold) + \" (after threshold)\")\n",
    "\n",
    "if show_image:\n",
    "    print(\"RESULT:\")       \n",
    "    plt.imshow(img_cvdet)\n",
    "    plt.show()\n",
    "\n",
    "#SAVE\n",
    "cv2.imwrite(\"./img/save.png\",img_cvdet)"
   ]
  },
  {
   "cell_type": "code",
   "execution_count": null,
   "metadata": {},
   "outputs": [],
   "source": []
  }
 ],
 "metadata": {
  "kernelspec": {
   "display_name": "Python 3",
   "language": "python",
   "name": "python3"
  },
  "language_info": {
   "codemirror_mode": {
    "name": "ipython",
    "version": 3
   },
   "file_extension": ".py",
   "mimetype": "text/x-python",
   "name": "python",
   "nbconvert_exporter": "python",
   "pygments_lexer": "ipython3",
   "version": "3.7.7"
  }
 },
 "nbformat": 4,
 "nbformat_minor": 4
}
